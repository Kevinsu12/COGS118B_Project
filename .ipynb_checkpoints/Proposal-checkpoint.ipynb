{
 "cells": [
  {
   "cell_type": "markdown",
   "metadata": {},
   "source": [
    "# COGS 118B - Project Proposal"
   ]
  },
  {
   "cell_type": "markdown",
   "metadata": {},
   "source": [
    "# Names\n",
    "\n",
    "Hopefully your team is at least this good. Obviously you should replace these with your names.\n",
    "\n",
    "- Minju Lee\n",
    "- Cynthia Delira\n",
    "- Ke\n",
    "- Kevin Su"
   ]
  },
  {
   "cell_type": "markdown",
   "metadata": {},
   "source": [
    "# Abstract \n",
    "Current music recommendation algorithms only offer users vague genres such as pop, rock, or indie. These genres include many different subgenres that are unique from one another which users are left unaware of because algorithms leave them out. We propose incorporating these subgenres and creating a machine learning structure that separates music by subgenres to give users more specific suggestions.\n",
    "\n",
    "We will be using the Spotify Track Dataset from Kaggle and extract all pop-related songs’ dataset for clustering. Each data will represent a certain aspect of the song such as tempo, energy level, danceability, etc. Since most songs are already labeled with a subgenre of pop that are only based on the origin of the music, we will manual evualation as the main method of measurement for our algorithm. \n"
   ]
  },
  {
   "cell_type": "markdown",
   "metadata": {},
   "source": [
    "# Background\n",
    "\n",
    "There are multiple music genre algorithms that exist, however none of them correctly classify music into sub-genres. Even the biggest music algorithm Spotify struggles with this as it is unable “to accurately gauge mood and context” <a name=\"mys\"></a>[<sup>[2]</sup>](#mystery) which is crucial to identifying sub-genres. The issue with Spotify is that it utilizes K-Means clustering which requires previous knowledge of the number of clusters to create, making it difficult for the algorithm to identify sub-genres <a name=\"stern\"></a>[<sup>[1]</sup>](#sternNote). Without sub-genres, algorithms cluster music into large, vague groups and end up recommending popular songs/artists instead of niche, underrated music <a name=\"mys\"></a>[<sup>[2]</sup>](#mystery). Classifying music into sub-genres is important as it allows the user to find a wider variety of music and breaks them out of an echo chamber of the same type of music that everyone listens to <a name=\"mys\"></a>[<sup>[2]</sup>](#mystery). \n",
    "Instead of K-Means clustering, we propose to use hierarchical clustering which is a “bottom-up” approach that initializes each observation as its own cluster and merged clusters move up the hierarchy. This approach requires no previous knowledge of the cluster count which allows us to evaluate sub-genres and the closeness of any two genres <a name=\"mys\"></a>[<sup>[2]</sup>](#mystery). Our method will separate the giant genre of pop music into sub-genres based on tempo, energy level, danceability, etc. from the dataset we found. \n"
   ]
  },
  {
   "cell_type": "markdown",
   "metadata": {},
   "source": [
    "# Problem Statement\n",
    "\n",
    "Given the complexity of genres, many songs are thrown into vague genres such as pop, rock, country, etc. when two songs from the same genre can have completely different sounds. This is a problem in most current music recommendation systems where thousands of songs are placed in this vague genre and the result leads to songs that are complete opposites to a person’s music taste. Therefore we want to train a model that will cluster songs from a one vague genre into multiple subgenres depending on each song’s tempo, energy level, danceability, etc in order to ensure a person is recommended songs that are similar to each other and not polar opposites.\n"
   ]
  },
  {
   "cell_type": "markdown",
   "metadata": {},
   "source": [
    "# Data\n",
    "\n",
    "We will be using the Spotify Tracks dataset as found on Kaggle. This dataset has a total of 20 variables with an approximate of 114k observations. The observations consist of different features of each song in the data. These features are the variables that include instrumental details on the songs like tempo, acousticness, instrumentalness. The tempo is considered a critical variable as it tracks the beats per minute(BPM) and is important when clustering songs that have similar tempo as well as danceability. Danceability gives a rating from 0.0(least danceable) to 1.0(most danceable) where a song’s tempo, rhythmic stability, beat strength, and overall regularity are used to determine how suitable the song is for a dance setting. This is a critical variable as one does not want to listen to a song with no danceability and then jumbo to one of the most danceable songs with a fast tempo. Other variables like loudness, valence, and danceability are important to take into account as it shows all the different characteristics of the song. \n",
    "\n",
    "To better handle the data we will clean the data in order to only cluster songs in a specific genre which is pop and we will do this by removing any song which its sub genre does not include the phrase “pop” which we can then assume the genre is an entirely different genre other than pop. By doing so we are reducing the number of data and also reducing all the different 125 genres that are in the dataset. Despite this cleaning, since the dataset is large we will still have sufficient data to work with.\n",
    "\n",
    "Data Source: https://www.kaggle.com/datasets/maharshipandya/-spotify-tracks-dataset\n"
   ]
  },
  {
   "cell_type": "markdown",
   "metadata": {},
   "source": [
    "# Proposed Solution\n",
    "\n",
    "To further classify the sub-genre of a genre of music, which in this case is “pop”,  we will utilize the dataset on songs from Kaggle that were extracted through the Spotify API. Since some variables such as song length are not as representative as other features such as BPM, it’s important to select the most indicative variables during the data cleaning process. Because the dataset has a total of 20 variables, we will first proceed with dimensionality reduction to find the most optimal PCA hyperparameter to optimize data visualization and interpretation.   We will use K-means clustering as our benchmark model as it’s the most common way of clustering and vector quantization. We will use the adjust_rand_score function from scikit-learn to compare our model to the benchmark model. For most optimal algorithm selection, we will search through Gaussian mixture model clustering, hierarchical clustering, and spectral clustering for the best performance model based on our evaluation metrics that is described below. The optimal algorithm should efficiently cluster songs into different genres due to the variety and the volume of our datasets. We will utilize all the clustering algorithms described above from scikit-learn library. We will manually test the solution by randomly selecting songs from the same cluster to spot the similarity and selectings songs from different clusters to spot the difference.\n"
   ]
  },
  {
   "cell_type": "markdown",
   "metadata": {},
   "source": [
    "# Evaluation Metrics\n",
    "\n",
    "Due to the fact that all our results don’t have pre-existing labels, the evaluation metrics will largely depend on manual evaluation. To determine and quantify the performance of the clustering algorithm, among the four group members we have, each member will follow the same evaluation metrics. We will select two songs from each cluster group and rate it from 0 to 10 where 0 represents no similarity at all and 10 represents extremely similar. We are going to repeat this process three times for each cluster (ex: if there are 3 clusters, this process will be repeated 9 times with 9 scores). We will remove the highest and the lowest score, and take the average of the rest of the scores. Then we will select two clusters and one song from each cluster. We will rate it from 0 to 10 where 0 represents extremely similar and 10 represents extremely different. Keep repeating this process until all clusters have been compared with each other(ex: if there are 4 clusters, the process should be repeated 3! times). We will remove the highest and the lowest score, and take average for the rest of the scores, hence each team member should come out with two scores. Lastly, we will take the average of all 10 scores we have evaluated to represent the performance of the clustering algorithm. \n"
   ]
  },
  {
   "cell_type": "markdown",
   "metadata": {},
   "source": [
    "# Ethics & Privacy"
   ]
  },
  {
   "cell_type": "markdown",
   "metadata": {},
   "source": [
    "The main goal of our project is to re-discover and make better classification of music genres for listeners having better experience. While we also seriously consider ethical and privacy aspects in our project.\n",
    "1. Data privacy & consent: Since we use related data from Spotify. It may include sensitive musician and user information. We will make sure that all data is anonymous and used in compliance with data privacy and follows data protection laws, respecting both artist and listener privacy.\n",
    "2. Bias and representation: Music data may also have bias(cultural, language, geographical position reasons, etc) We know that initial dataset may not represent all music genres equitably (particularly those from underrepresented regions or languages).We will minimize and mitigate such biases,  try our best to make a diversified and inclusive music environment.\n",
    "3. Generalization and Impact: our project dataset is limited, but we want to seek methods to generalize the results in various music genres. We will pay attention to avoid overgeneralization which may misrepresent some music styles, working towards recommendations that benefit a broad spectrum of listeners and musicians.\n",
    "4. Transparency and accountability: considering ethical research practices, we promise that our methodologies, data sources, and findings are all transparent. \n"
   ]
  },
  {
   "cell_type": "markdown",
   "metadata": {},
   "source": [
    "# Team Expectations "
   ]
  },
  {
   "cell_type": "markdown",
   "metadata": {},
   "source": [
    "1. We expect each member to keep the other members updated on their progress and let us know in advance if they are unable to complete their work.\n",
    "\n",
    "2. We will regularly meet at the planned times and will let the other members know if something prevents us from attending.\n",
    "\n",
    "3. Each member will complete their portion of the work on time and let the other members know if the load is too much work for them.\n",
    "\n",
    "4. We will respect each member and listen to each other regardless of our differences.\n"
   ]
  },
  {
   "cell_type": "markdown",
   "metadata": {},
   "source": [
    "# Project Timeline Proposal"
   ]
  },
  {
   "cell_type": "markdown",
   "metadata": {},
   "source": [
    "\n",
    "| Meeting Date  | Meeting Time| Completed Before Meeting  | Discuss at Meeting |\n",
    "|---|---|---|---|\n",
    "| 2/9  |  5 PM |  Brainstorm topics/questions  |Determine best way of communication, discuss and finalize project idea, discuss problem/solution, determine best days and time for meetings| \n",
    "| 2/14  |  3 PM |  Do background research on topic  |Discuss and finalize the ideal dataset that may be used to the project, begin draft of project proposal and split independent work, | \n",
    "| 2/20  | 5PM  |Edit proposal | Discuss and agree as a group on team expectations and team calendar, go through each part of proposal together and make any final edits, finalize and submit proposal   |\n",
    "| 2/27  |5PM  | Begin cleaning the dataset to include only pop songs in the data| Discuss and assign group members to lead specific parts of project, discuss analysis plan   |\n",
    "| 3/5  | 5PM | Begin programming for project | Discuss and edit code, discuss what are the final steps for the project code |\n",
    "| 3/12  | 5PM |Finalize results, draft results/conclusion/discussion| Discuss and split the remaining parts from the project for individual work |\n",
    "| 3/20  | 5PM  | Review and finalize project | Turn in Final Project  |"
   ]
  },
  {
   "cell_type": "markdown",
   "metadata": {},
   "source": [
    "# Footnotes\n",
    "<a name=\"sternNote\"></a>1.[^](#stern): Stern, Samuel Walter, \"Analysis of Music Genre Clustering Algorithms\" (2021). Theses and Dissertations. 2839. https://dc.uwm.edu/cgi/viewcontent.cgi?article=3844&context=etd <br> \n",
    "<a name=\"mystery\"></a>2.[^](#mys): Uncovering the Mystery: Why is Spotify's Algorithm Failing to Impress?, \n",
    "locall.host/why-is-spotify-algorithm-so-bad/.\n",
    "<br>\n",
    "\n"
   ]
  }
 ],
 "metadata": {
  "kernelspec": {
   "display_name": "Python 3 (ipykernel)",
   "language": "python",
   "name": "python3"
  },
  "language_info": {
   "codemirror_mode": {
    "name": "ipython",
    "version": 3
   },
   "file_extension": ".py",
   "mimetype": "text/x-python",
   "name": "python",
   "nbconvert_exporter": "python",
   "pygments_lexer": "ipython3",
   "version": "3.11.5"
  }
 },
 "nbformat": 4,
 "nbformat_minor": 2
}
